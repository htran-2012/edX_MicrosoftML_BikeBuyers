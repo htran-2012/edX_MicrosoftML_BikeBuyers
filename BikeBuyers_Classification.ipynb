{
 "cells": [
  {
   "cell_type": "code",
   "execution_count": 1,
   "metadata": {},
   "outputs": [],
   "source": [
    "import pandas as pd\n",
    "import matplotlib.pyplot as plt\n",
    "import seaborn as sns\n",
    "import numpy as np\n",
    "import numpy.random as nr\n",
    "import math\n",
    "from sklearn import preprocessing\n",
    "import sklearn.model_selection as ms\n",
    "from sklearn import linear_model\n",
    "import sklearn.metrics as sklm\n",
    "\n",
    "%matplotlib inline\n",
    "#set to see all columns of data\n",
    "pd.set_option('display.max_columns', 999)"
   ]
  },
  {
   "cell_type": "code",
   "execution_count": 2,
   "metadata": {},
   "outputs": [],
   "source": [
    "df = pd.read_csv('Cleaned.csv', index_col = 0)"
   ]
  },
  {
   "cell_type": "code",
   "execution_count": 3,
   "metadata": {},
   "outputs": [
    {
     "data": {
      "text/html": [
       "<div>\n",
       "<style scoped>\n",
       "    .dataframe tbody tr th:only-of-type {\n",
       "        vertical-align: middle;\n",
       "    }\n",
       "\n",
       "    .dataframe tbody tr th {\n",
       "        vertical-align: top;\n",
       "    }\n",
       "\n",
       "    .dataframe thead th {\n",
       "        text-align: right;\n",
       "    }\n",
       "</style>\n",
       "<table border=\"1\" class=\"dataframe\">\n",
       "  <thead>\n",
       "    <tr style=\"text-align: right;\">\n",
       "      <th></th>\n",
       "      <th>CustomerID</th>\n",
       "      <th>FirstName</th>\n",
       "      <th>LastName</th>\n",
       "      <th>AddressLine1</th>\n",
       "      <th>City</th>\n",
       "      <th>StateProvinceName</th>\n",
       "      <th>CountryRegionName</th>\n",
       "      <th>PostalCode</th>\n",
       "      <th>PhoneNumber</th>\n",
       "      <th>BirthDate</th>\n",
       "      <th>Education</th>\n",
       "      <th>Occupation</th>\n",
       "      <th>Gender</th>\n",
       "      <th>MaritalStatus</th>\n",
       "      <th>HomeOwnerFlag</th>\n",
       "      <th>NumberCarsOwned</th>\n",
       "      <th>NumberChildrenAtHome</th>\n",
       "      <th>TotalChildren</th>\n",
       "      <th>YearlyIncome</th>\n",
       "      <th>BikeBuyer</th>\n",
       "      <th>AveMonthSpend</th>\n",
       "      <th>Age</th>\n",
       "      <th>dummy</th>\n",
       "      <th>log_Age</th>\n",
       "      <th>log_YearlyIncome</th>\n",
       "      <th>log_AveMonthSpend</th>\n",
       "    </tr>\n",
       "  </thead>\n",
       "  <tbody>\n",
       "    <tr>\n",
       "      <th>0</th>\n",
       "      <td>11000</td>\n",
       "      <td>Jon</td>\n",
       "      <td>Yang</td>\n",
       "      <td>3761 N. 14th St</td>\n",
       "      <td>Rockhampton</td>\n",
       "      <td>Queensland</td>\n",
       "      <td>Australia</td>\n",
       "      <td>4700</td>\n",
       "      <td>1 (11) 500 555-0162</td>\n",
       "      <td>1966-04-08</td>\n",
       "      <td>Bachelors</td>\n",
       "      <td>Professional</td>\n",
       "      <td>M</td>\n",
       "      <td>M</td>\n",
       "      <td>1</td>\n",
       "      <td>0</td>\n",
       "      <td>0</td>\n",
       "      <td>2</td>\n",
       "      <td>137947</td>\n",
       "      <td>0</td>\n",
       "      <td>89</td>\n",
       "      <td>54</td>\n",
       "      <td>1.0</td>\n",
       "      <td>3.988984</td>\n",
       "      <td>11.834625</td>\n",
       "      <td>4.488636</td>\n",
       "    </tr>\n",
       "    <tr>\n",
       "      <th>1</th>\n",
       "      <td>11001</td>\n",
       "      <td>Eugene</td>\n",
       "      <td>Huang</td>\n",
       "      <td>2243 W St.</td>\n",
       "      <td>Seaford</td>\n",
       "      <td>Victoria</td>\n",
       "      <td>Australia</td>\n",
       "      <td>3198</td>\n",
       "      <td>1 (11) 500 555-0110</td>\n",
       "      <td>1965-05-14</td>\n",
       "      <td>Bachelors</td>\n",
       "      <td>Professional</td>\n",
       "      <td>M</td>\n",
       "      <td>S</td>\n",
       "      <td>0</td>\n",
       "      <td>1</td>\n",
       "      <td>3</td>\n",
       "      <td>3</td>\n",
       "      <td>101141</td>\n",
       "      <td>1</td>\n",
       "      <td>117</td>\n",
       "      <td>55</td>\n",
       "      <td>1.0</td>\n",
       "      <td>4.007333</td>\n",
       "      <td>11.524271</td>\n",
       "      <td>4.762174</td>\n",
       "    </tr>\n",
       "    <tr>\n",
       "      <th>2</th>\n",
       "      <td>11002</td>\n",
       "      <td>Ruben</td>\n",
       "      <td>Torres</td>\n",
       "      <td>5844 Linden Land</td>\n",
       "      <td>Hobart</td>\n",
       "      <td>Tasmania</td>\n",
       "      <td>Australia</td>\n",
       "      <td>7001</td>\n",
       "      <td>1 (11) 500 555-0184</td>\n",
       "      <td>1965-08-12</td>\n",
       "      <td>Bachelors</td>\n",
       "      <td>Professional</td>\n",
       "      <td>M</td>\n",
       "      <td>M</td>\n",
       "      <td>1</td>\n",
       "      <td>1</td>\n",
       "      <td>3</td>\n",
       "      <td>3</td>\n",
       "      <td>91945</td>\n",
       "      <td>0</td>\n",
       "      <td>123</td>\n",
       "      <td>55</td>\n",
       "      <td>1.0</td>\n",
       "      <td>4.007333</td>\n",
       "      <td>11.428946</td>\n",
       "      <td>4.812184</td>\n",
       "    </tr>\n",
       "    <tr>\n",
       "      <th>3</th>\n",
       "      <td>11003</td>\n",
       "      <td>Christy</td>\n",
       "      <td>Zhu</td>\n",
       "      <td>1825 Village Pl.</td>\n",
       "      <td>North Ryde</td>\n",
       "      <td>New South Wales</td>\n",
       "      <td>Australia</td>\n",
       "      <td>2113</td>\n",
       "      <td>1 (11) 500 555-0162</td>\n",
       "      <td>1968-02-15</td>\n",
       "      <td>Bachelors</td>\n",
       "      <td>Professional</td>\n",
       "      <td>F</td>\n",
       "      <td>S</td>\n",
       "      <td>0</td>\n",
       "      <td>1</td>\n",
       "      <td>0</td>\n",
       "      <td>0</td>\n",
       "      <td>86688</td>\n",
       "      <td>0</td>\n",
       "      <td>50</td>\n",
       "      <td>52</td>\n",
       "      <td>1.0</td>\n",
       "      <td>3.951244</td>\n",
       "      <td>11.370071</td>\n",
       "      <td>3.912023</td>\n",
       "    </tr>\n",
       "    <tr>\n",
       "      <th>4</th>\n",
       "      <td>11004</td>\n",
       "      <td>Elizabeth</td>\n",
       "      <td>Johnson</td>\n",
       "      <td>7553 Harness Circle</td>\n",
       "      <td>Wollongong</td>\n",
       "      <td>New South Wales</td>\n",
       "      <td>Australia</td>\n",
       "      <td>2500</td>\n",
       "      <td>1 (11) 500 555-0131</td>\n",
       "      <td>1968-08-08</td>\n",
       "      <td>Bachelors</td>\n",
       "      <td>Professional</td>\n",
       "      <td>F</td>\n",
       "      <td>S</td>\n",
       "      <td>1</td>\n",
       "      <td>4</td>\n",
       "      <td>5</td>\n",
       "      <td>5</td>\n",
       "      <td>92771</td>\n",
       "      <td>1</td>\n",
       "      <td>95</td>\n",
       "      <td>52</td>\n",
       "      <td>1.0</td>\n",
       "      <td>3.951244</td>\n",
       "      <td>11.437889</td>\n",
       "      <td>4.553877</td>\n",
       "    </tr>\n",
       "  </tbody>\n",
       "</table>\n",
       "</div>"
      ],
      "text/plain": [
       "   CustomerID  FirstName LastName         AddressLine1         City  \\\n",
       "0       11000        Jon     Yang      3761 N. 14th St  Rockhampton   \n",
       "1       11001     Eugene    Huang           2243 W St.      Seaford   \n",
       "2       11002      Ruben   Torres     5844 Linden Land       Hobart   \n",
       "3       11003    Christy      Zhu     1825 Village Pl.   North Ryde   \n",
       "4       11004  Elizabeth  Johnson  7553 Harness Circle   Wollongong   \n",
       "\n",
       "  StateProvinceName CountryRegionName PostalCode          PhoneNumber  \\\n",
       "0        Queensland         Australia       4700  1 (11) 500 555-0162   \n",
       "1          Victoria         Australia       3198  1 (11) 500 555-0110   \n",
       "2          Tasmania         Australia       7001  1 (11) 500 555-0184   \n",
       "3   New South Wales         Australia       2113  1 (11) 500 555-0162   \n",
       "4   New South Wales         Australia       2500  1 (11) 500 555-0131   \n",
       "\n",
       "    BirthDate   Education    Occupation Gender MaritalStatus  HomeOwnerFlag  \\\n",
       "0  1966-04-08  Bachelors   Professional      M             M              1   \n",
       "1  1965-05-14  Bachelors   Professional      M             S              0   \n",
       "2  1965-08-12  Bachelors   Professional      M             M              1   \n",
       "3  1968-02-15  Bachelors   Professional      F             S              0   \n",
       "4  1968-08-08  Bachelors   Professional      F             S              1   \n",
       "\n",
       "   NumberCarsOwned  NumberChildrenAtHome  TotalChildren  YearlyIncome  \\\n",
       "0                0                     0              2        137947   \n",
       "1                1                     3              3        101141   \n",
       "2                1                     3              3         91945   \n",
       "3                1                     0              0         86688   \n",
       "4                4                     5              5         92771   \n",
       "\n",
       "   BikeBuyer  AveMonthSpend  Age  dummy   log_Age  log_YearlyIncome  \\\n",
       "0          0             89   54    1.0  3.988984         11.834625   \n",
       "1          1            117   55    1.0  4.007333         11.524271   \n",
       "2          0            123   55    1.0  4.007333         11.428946   \n",
       "3          0             50   52    1.0  3.951244         11.370071   \n",
       "4          1             95   52    1.0  3.951244         11.437889   \n",
       "\n",
       "   log_AveMonthSpend  \n",
       "0           4.488636  \n",
       "1           4.762174  \n",
       "2           4.812184  \n",
       "3           3.912023  \n",
       "4           4.553877  "
      ]
     },
     "execution_count": 3,
     "metadata": {},
     "output_type": "execute_result"
    }
   ],
   "source": [
    "df.head()"
   ]
  },
  {
   "cell_type": "code",
   "execution_count": 4,
   "metadata": {},
   "outputs": [
    {
     "data": {
      "text/plain": [
       "(16404, 26)"
      ]
     },
     "execution_count": 4,
     "metadata": {},
     "output_type": "execute_result"
    }
   ],
   "source": [
    "df.shape"
   ]
  },
  {
   "cell_type": "code",
   "execution_count": 5,
   "metadata": {
    "scrolled": true
   },
   "outputs": [
    {
     "data": {
      "text/plain": [
       "Index(['CustomerID', 'FirstName', 'LastName', 'AddressLine1', 'City',\n",
       "       'StateProvinceName', 'CountryRegionName', 'PostalCode', 'PhoneNumber',\n",
       "       'BirthDate', 'Education', 'Occupation', 'Gender', 'MaritalStatus',\n",
       "       'HomeOwnerFlag', 'NumberCarsOwned', 'NumberChildrenAtHome',\n",
       "       'TotalChildren', 'YearlyIncome', 'BikeBuyer', 'AveMonthSpend', 'Age',\n",
       "       'dummy', 'log_Age', 'log_YearlyIncome', 'log_AveMonthSpend'],\n",
       "      dtype='object')"
      ]
     },
     "execution_count": 5,
     "metadata": {},
     "output_type": "execute_result"
    }
   ],
   "source": [
    "df.columns"
   ]
  },
  {
   "cell_type": "code",
   "execution_count": 6,
   "metadata": {},
   "outputs": [
    {
     "name": "stdout",
     "output_type": "stream",
     "text": [
      "           CustomerID\n",
      "BikeBuyer            \n",
      "0               10949\n",
      "1                5455\n"
     ]
    }
   ],
   "source": [
    "buyer_counts = df[['CustomerID', 'BikeBuyer']].groupby('BikeBuyer').count()\n",
    "print(buyer_counts)\n",
    "\n",
    "#unbalanced group"
   ]
  },
  {
   "cell_type": "markdown",
   "metadata": {},
   "source": [
    "## Prepare data for models"
   ]
  },
  {
   "cell_type": "code",
   "execution_count": 7,
   "metadata": {},
   "outputs": [],
   "source": [
    "labels = np.array(df['BikeBuyer'])\n",
    "#labels.shape"
   ]
  },
  {
   "cell_type": "code",
   "execution_count": 8,
   "metadata": {},
   "outputs": [
    {
     "name": "stdout",
     "output_type": "stream",
     "text": [
      "(16404, 22)\n",
      "[[1. 0. 0. 0. 0. 0. 1. 0. 0. 0. 0. 0. 0. 0. 1. 0. 0. 1. 1. 0. 0. 1.]\n",
      " [1. 0. 0. 0. 0. 0. 1. 0. 0. 0. 0. 0. 0. 0. 1. 0. 0. 1. 0. 1. 1. 0.]]\n"
     ]
    }
   ],
   "source": [
    "#Encode classification features\n",
    "def encode_string(cat_features):\n",
    "    ## First encode the strings to numeric categories\n",
    "    enc = preprocessing.LabelEncoder()\n",
    "    enc.fit(cat_features)\n",
    "    enc_cat_features = enc.transform(cat_features)\n",
    "    ## Now, apply one hot encoding\n",
    "    ohe = preprocessing.OneHotEncoder()\n",
    "    encoded = ohe.fit(enc_cat_features.reshape(-1,1))\n",
    "    return encoded.transform(enc_cat_features.reshape(-1,1)).toarray()\n",
    "\n",
    "categorical_columns = ['Education', 'Occupation', 'Gender', 'MaritalStatus',\n",
    "       'HomeOwnerFlag']\n",
    "\n",
    "Features = encode_string(df['CountryRegionName'])\n",
    "for col in categorical_columns:\n",
    "    temp = encode_string(df[col])\n",
    "    Features = np.concatenate([Features, temp], axis = 1)\n",
    "\n",
    "print(Features.shape)\n",
    "print(Features[:2, :])  "
   ]
  },
  {
   "cell_type": "code",
   "execution_count": 9,
   "metadata": {},
   "outputs": [
    {
     "name": "stdout",
     "output_type": "stream",
     "text": [
      "(16404, 27)\n",
      "[[1.00000e+00 0.00000e+00 0.00000e+00 0.00000e+00 0.00000e+00 0.00000e+00\n",
      "  1.00000e+00 0.00000e+00 0.00000e+00 0.00000e+00 0.00000e+00 0.00000e+00\n",
      "  0.00000e+00 0.00000e+00 1.00000e+00 0.00000e+00 0.00000e+00 1.00000e+00\n",
      "  1.00000e+00 0.00000e+00 0.00000e+00 1.00000e+00 0.00000e+00 0.00000e+00\n",
      "  2.00000e+00 5.40000e+01 1.37947e+05]\n",
      " [1.00000e+00 0.00000e+00 0.00000e+00 0.00000e+00 0.00000e+00 0.00000e+00\n",
      "  1.00000e+00 0.00000e+00 0.00000e+00 0.00000e+00 0.00000e+00 0.00000e+00\n",
      "  0.00000e+00 0.00000e+00 1.00000e+00 0.00000e+00 0.00000e+00 1.00000e+00\n",
      "  0.00000e+00 1.00000e+00 1.00000e+00 0.00000e+00 1.00000e+00 3.00000e+00\n",
      "  3.00000e+00 5.50000e+01 1.01141e+05]\n",
      " [1.00000e+00 0.00000e+00 0.00000e+00 0.00000e+00 0.00000e+00 0.00000e+00\n",
      "  1.00000e+00 0.00000e+00 0.00000e+00 0.00000e+00 0.00000e+00 0.00000e+00\n",
      "  0.00000e+00 0.00000e+00 1.00000e+00 0.00000e+00 0.00000e+00 1.00000e+00\n",
      "  1.00000e+00 0.00000e+00 0.00000e+00 1.00000e+00 1.00000e+00 3.00000e+00\n",
      "  3.00000e+00 5.50000e+01 9.19450e+04]\n",
      " [1.00000e+00 0.00000e+00 0.00000e+00 0.00000e+00 0.00000e+00 0.00000e+00\n",
      "  1.00000e+00 0.00000e+00 0.00000e+00 0.00000e+00 0.00000e+00 0.00000e+00\n",
      "  0.00000e+00 0.00000e+00 1.00000e+00 0.00000e+00 1.00000e+00 0.00000e+00\n",
      "  0.00000e+00 1.00000e+00 1.00000e+00 0.00000e+00 1.00000e+00 0.00000e+00\n",
      "  0.00000e+00 5.20000e+01 8.66880e+04]\n",
      " [1.00000e+00 0.00000e+00 0.00000e+00 0.00000e+00 0.00000e+00 0.00000e+00\n",
      "  1.00000e+00 0.00000e+00 0.00000e+00 0.00000e+00 0.00000e+00 0.00000e+00\n",
      "  0.00000e+00 0.00000e+00 1.00000e+00 0.00000e+00 1.00000e+00 0.00000e+00\n",
      "  0.00000e+00 1.00000e+00 0.00000e+00 1.00000e+00 4.00000e+00 5.00000e+00\n",
      "  5.00000e+00 5.20000e+01 9.27710e+04]]\n"
     ]
    }
   ],
   "source": [
    "#Concatenate numeric features\n",
    "Features = np.concatenate([Features, np.array(df[['NumberCarsOwned', 'NumberChildrenAtHome',\n",
    "       'TotalChildren','Age','YearlyIncome']])], axis = 1)\n",
    "print(Features.shape)\n",
    "print(Features[:5, :])   "
   ]
  },
  {
   "cell_type": "code",
   "execution_count": 10,
   "metadata": {},
   "outputs": [],
   "source": [
    "## Randomly sample cases to create independent training and test data\n",
    "nr.seed(9988)\n",
    "indx = range(Features.shape[0])\n",
    "indx = ms.train_test_split(indx, test_size = 0.2)\n",
    "X_train = Features[indx[0],:]\n",
    "y_train = np.ravel(labels[indx[0]])\n",
    "X_test = Features[indx[1],:]\n",
    "y_test = np.ravel(labels[indx[1]])"
   ]
  },
  {
   "cell_type": "code",
   "execution_count": 11,
   "metadata": {},
   "outputs": [
    {
     "data": {
      "text/plain": [
       "(3281, 27)"
      ]
     },
     "execution_count": 11,
     "metadata": {},
     "output_type": "execute_result"
    }
   ],
   "source": [
    "X_train.shape\n",
    "X_test.shape"
   ]
  },
  {
   "cell_type": "code",
   "execution_count": 12,
   "metadata": {},
   "outputs": [
    {
     "data": {
      "text/plain": [
       "array([[ 0.        ,  1.        ,  0.        ,  0.        ,  0.        ,\n",
       "         0.        ,  0.        ,  0.        ,  0.        ,  0.        ,\n",
       "         1.        ,  1.        ,  0.        ,  0.        ,  0.        ,\n",
       "         0.        ,  0.        ,  1.        ,  0.        ,  1.        ,\n",
       "         1.        ,  0.        ,  0.43971318, -0.65347453, -1.19026902,\n",
       "        -1.37010422, -0.63468598],\n",
       "       [ 0.        ,  0.        ,  0.        ,  0.        ,  0.        ,\n",
       "         1.        ,  0.        ,  1.        ,  0.        ,  0.        ,\n",
       "         0.        ,  0.        ,  0.        ,  0.        ,  0.        ,\n",
       "         1.        ,  1.        ,  0.        ,  0.        ,  1.        ,\n",
       "         0.        ,  1.        , -1.30914454, -0.65347453,  1.18420752,\n",
       "         0.22627031,  0.35304315],\n",
       "       [ 0.        ,  0.        ,  0.        ,  0.        ,  0.        ,\n",
       "         1.        ,  0.        ,  0.        ,  0.        ,  1.        ,\n",
       "         0.        ,  0.        ,  0.        ,  0.        ,  0.        ,\n",
       "         1.        ,  0.        ,  1.        ,  1.        ,  0.        ,\n",
       "         0.        ,  1.        , -0.43471568, -0.65347453, -0.59664988,\n",
       "        -0.03979211,  0.29240813],\n",
       "       [ 0.        ,  0.        ,  0.        ,  0.        ,  1.        ,\n",
       "         0.        ,  1.        ,  0.        ,  0.        ,  0.        ,\n",
       "         0.        ,  1.        ,  0.        ,  0.        ,  0.        ,\n",
       "         0.        ,  0.        ,  1.        ,  1.        ,  0.        ,\n",
       "         0.        ,  1.        , -1.30914454, -0.65347453, -1.19026902,\n",
       "        -0.7492919 , -0.09254496],\n",
       "       [ 0.        ,  0.        ,  0.        ,  0.        ,  0.        ,\n",
       "         1.        ,  1.        ,  0.        ,  0.        ,  0.        ,\n",
       "         0.        ,  0.        ,  0.        ,  0.        ,  0.        ,\n",
       "         1.        ,  1.        ,  0.        ,  0.        ,  1.        ,\n",
       "         0.        ,  1.        ,  0.43971318,  1.32641147,  0.59058839,\n",
       "        -0.30585453,  0.6999389 ]])"
      ]
     },
     "execution_count": 12,
     "metadata": {},
     "output_type": "execute_result"
    }
   ],
   "source": [
    "#Rescale numeric features\n",
    "scaler = preprocessing.StandardScaler().fit(X_train[:,22:])\n",
    "X_train[:,22:] = scaler.transform(X_train[:,22:])\n",
    "X_test[:,22:] = scaler.transform(X_test[:,22:])\n",
    "X_train[:5,]"
   ]
  },
  {
   "cell_type": "markdown",
   "metadata": {},
   "source": [
    "### Construct linear regression model\n"
   ]
  },
  {
   "cell_type": "code",
   "execution_count": 13,
   "metadata": {},
   "outputs": [
    {
     "data": {
      "text/plain": [
       "LogisticRegression(C=1.0, class_weight=None, dual=False, fit_intercept=True,\n",
       "                   intercept_scaling=1, l1_ratio=None, max_iter=100,\n",
       "                   multi_class='auto', n_jobs=None, penalty='l2',\n",
       "                   random_state=None, solver='lbfgs', tol=0.0001, verbose=0,\n",
       "                   warm_start=False)"
      ]
     },
     "execution_count": 13,
     "metadata": {},
     "output_type": "execute_result"
    }
   ],
   "source": [
    "logistic_mod = linear_model.LogisticRegression() \n",
    "logistic_mod.fit(X_train, y_train)"
   ]
  },
  {
   "cell_type": "code",
   "execution_count": 14,
   "metadata": {},
   "outputs": [
    {
     "name": "stdout",
     "output_type": "stream",
     "text": [
      "[-1.01336544]\n",
      "[[-0.14902877  0.10785338  0.02261039 -0.03491972  0.05887057 -0.0064777\n",
      "   0.40347717  0.12250261 -0.11545607  0.02948458 -0.44110014  0.00903067\n",
      "  -0.57747407  0.28251204  0.10622929  0.17861021 -0.30828881  0.30719696\n",
      "  -0.75942583  0.75833398 -0.05531438  0.05422253 -0.07050963  1.08393266\n",
      "   0.10017361 -0.41395947  0.5947847 ]]\n"
     ]
    }
   ],
   "source": [
    "print(logistic_mod.intercept_)\n",
    "print(logistic_mod.coef_)"
   ]
  },
  {
   "cell_type": "code",
   "execution_count": 15,
   "metadata": {},
   "outputs": [
    {
     "name": "stdout",
     "output_type": "stream",
     "text": [
      "[[0.96568681 0.03431319]\n",
      " [0.8747513  0.1252487 ]\n",
      " [0.76628476 0.23371524]\n",
      " [0.5000459  0.4999541 ]\n",
      " [0.1997765  0.8002235 ]\n",
      " [0.62763997 0.37236003]\n",
      " [0.63180985 0.36819015]\n",
      " [0.89256227 0.10743773]\n",
      " [0.69574309 0.30425691]\n",
      " [0.93390676 0.06609324]\n",
      " [0.43027113 0.56972887]\n",
      " [0.75389207 0.24610793]\n",
      " [0.33886485 0.66113515]\n",
      " [0.89868897 0.10131103]\n",
      " [0.92640832 0.07359168]]\n"
     ]
    }
   ],
   "source": [
    "probabilities = logistic_mod.predict_proba(X_test)\n",
    "print(probabilities[:15,:])"
   ]
  },
  {
   "cell_type": "code",
   "execution_count": 16,
   "metadata": {},
   "outputs": [
    {
     "data": {
      "text/plain": [
       "Text(0, 0.5, 'Frequency')"
      ]
     },
     "execution_count": 16,
     "metadata": {},
     "output_type": "execute_result"
    },
    {
     "data": {
      "image/png": "[encoded data removed]",
      "text/plain": [
       "<Figure size 432x288 with 1 Axes>"
      ]
     },
     "metadata": {
      "needs_background": "light"
     },
     "output_type": "display_data"
    }
   ],
   "source": [
    "# store the predicted probabilities for class 1\n",
    "y_pred_prob0 = probabilities[:, 0]\n",
    "y_pred_prob1 = probabilities[:, 1]\n",
    "\n",
    "# histogram of predicted probabilities\n",
    "\n",
    "plt.hist(y_pred_prob0)\n",
    "\n",
    "#plt.hist(y_pred_prob1)\n",
    "\n",
    "# x-axis limit from 0 to 1\n",
    "plt.xlim(0,1)\n",
    "plt.title('Histogram of predicted probabilities')\n",
    "plt.xlabel('Predicted probability of bikebuyers')\n",
    "plt.ylabel('Frequency')"
   ]
  },
  {
   "cell_type": "markdown",
   "metadata": {},
   "source": [
    "### Score and evaluate model"
   ]
  },
  {
   "cell_type": "code",
   "execution_count": 17,
   "metadata": {},
   "outputs": [
    {
     "name": "stdout",
     "output_type": "stream",
     "text": [
      "[0 0 0 0 1 0 0 0 0 0 1 0 1 0 0]\n",
      "[0 1 0 0 0 0 0 0 1 0 0 0 0 1 0]\n"
     ]
    }
   ],
   "source": [
    "def score_model(probs, threshold):\n",
    "    return np.array([1 if x > threshold else 0 for x in probs[:,1]])\n",
    "scores = score_model(probabilities, 0.5)\n",
    "print(np.array(scores[:15]))\n",
    "print(y_test[:15])"
   ]
  },
  {
   "cell_type": "code",
   "execution_count": 18,
   "metadata": {},
   "outputs": [
    {
     "name": "stdout",
     "output_type": "stream",
     "text": [
      "                 Confusion matrix\n",
      "                 Score positive    Score negative\n",
      "Actual positive      1944               238\n",
      "Actual negative       501               598\n",
      "\n",
      "Accuracy  0.77\n",
      " \n",
      "           Positive      Negative\n",
      "Num case     2182          1099\n",
      "Precision    0.80          0.72\n",
      "Recall       0.89          0.54\n",
      "F1           0.84          0.62\n"
     ]
    }
   ],
   "source": [
    "def print_metrics(labels, scores):\n",
    "    metrics = sklm.precision_recall_fscore_support(labels, scores)\n",
    "    conf = sklm.confusion_matrix(labels, scores)\n",
    "    print('                 Confusion matrix')\n",
    "    print('                 Score positive    Score negative')\n",
    "    print('Actual positive    %6d' % conf[0,0] + '             %5d' % conf[0,1])\n",
    "    print('Actual negative    %6d' % conf[1,0] + '             %5d' % conf[1,1])\n",
    "    print('')\n",
    "    print('Accuracy  %0.2f' % sklm.accuracy_score(labels, scores))\n",
    "    print(' ')\n",
    "    print('           Positive      Negative')\n",
    "    print('Num case   %6d' % metrics[3][0] + '        %6d' % metrics[3][1])\n",
    "    print('Precision  %6.2f' % metrics[0][0] + '        %6.2f' % metrics[0][1])\n",
    "    print('Recall     %6.2f' % metrics[1][0] + '        %6.2f' % metrics[1][1])\n",
    "    print('F1         %6.2f' % metrics[2][0] + '        %6.2f' % metrics[2][1])\n",
    "\n",
    "\n",
    "    \n",
    "print_metrics(y_test, scores)  "
   ]
  },
  {
   "cell_type": "code",
   "execution_count": 19,
   "metadata": {},
   "outputs": [
    {
     "data": {
      "image/png": "[encoded data removed]",
      "text/plain": [
       "<Figure size 432x288 with 1 Axes>"
      ]
     },
     "metadata": {
      "needs_background": "light"
     },
     "output_type": "display_data"
    }
   ],
   "source": [
    "def plot_auc(labels, probs):\n",
    "    ## Compute the false positive rate, true positive rate\n",
    "    ## and threshold along with the AUC\n",
    "    fpr, tpr, threshold = sklm.roc_curve(labels, probs[:,1])\n",
    "    auc = sklm.auc(fpr, tpr)\n",
    "    \n",
    "    ## Plot the result\n",
    "    plt.title('Receiver Operating Characteristic')\n",
    "    plt.plot(fpr, tpr, color = 'orange', label = 'AUC = %0.2f' % auc)\n",
    "    plt.legend(loc = 'lower right')\n",
    "    plt.plot([0, 1], [0, 1],'r--')\n",
    "    plt.xlim([0, 1])\n",
    "    plt.ylim([0, 1])\n",
    "    plt.ylabel('True Positive Rate')\n",
    "    plt.xlabel('False Positive Rate')\n",
    "    plt.show()\n",
    "    \n",
    "plot_auc(y_test, probabilities)  "
   ]
  },
  {
   "cell_type": "markdown",
   "metadata": {},
   "source": [
    "#### Choose a weighted model"
   ]
  },
  {
   "cell_type": "code",
   "execution_count": 20,
   "metadata": {},
   "outputs": [
    {
     "data": {
      "text/plain": [
       "LogisticRegression(C=1.0, class_weight={0: 0.33, 1: 0.67}, dual=False,\n",
       "                   fit_intercept=True, intercept_scaling=1, l1_ratio=None,\n",
       "                   max_iter=100, multi_class='auto', n_jobs=None, penalty='l2',\n",
       "                   random_state=None, solver='lbfgs', tol=0.0001, verbose=0,\n",
       "                   warm_start=False)"
      ]
     },
     "execution_count": 20,
     "metadata": {},
     "output_type": "execute_result"
    }
   ],
   "source": [
    "logistic_mod = linear_model.LogisticRegression(class_weight = {0:0.33, 1:0.67}) \n",
    "logistic_mod.fit(X_train, y_train)"
   ]
  },
  {
   "cell_type": "code",
   "execution_count": 21,
   "metadata": {},
   "outputs": [
    {
     "name": "stdout",
     "output_type": "stream",
     "text": [
      "[[0.93694457 0.06305543]\n",
      " [0.77332257 0.22667743]\n",
      " [0.62636132 0.37363868]\n",
      " [0.34669566 0.65330434]\n",
      " [0.10880191 0.89119809]\n",
      " [0.44709287 0.55290713]\n",
      " [0.45707988 0.54292012]\n",
      " [0.80733919 0.19266081]\n",
      " [0.55689348 0.44310652]\n",
      " [0.87953906 0.12046094]\n",
      " [0.26633023 0.73366977]\n",
      " [0.60457636 0.39542364]\n",
      " [0.19352768 0.80647232]\n",
      " [0.81316514 0.18683486]\n",
      " [0.86006987 0.13993013]]\n"
     ]
    }
   ],
   "source": [
    "probabilities = logistic_mod.predict_proba(X_test)\n",
    "print(probabilities[:15,:])"
   ]
  },
  {
   "cell_type": "code",
   "execution_count": 22,
   "metadata": {},
   "outputs": [
    {
     "name": "stdout",
     "output_type": "stream",
     "text": [
      "                 Confusion matrix\n",
      "                 Score positive    Score negative\n",
      "Actual positive      1684               498\n",
      "Actual negative       319               780\n",
      "\n",
      "Accuracy  0.75\n",
      " \n",
      "           Positive      Negative\n",
      "Num case     2182          1099\n",
      "Precision    0.84          0.61\n",
      "Recall       0.77          0.71\n",
      "F1           0.80          0.66\n"
     ]
    },
    {
     "data": {
      "image/png": "[encoded data removed]",
      "text/plain": [
       "<Figure size 432x288 with 1 Axes>"
      ]
     },
     "metadata": {
      "needs_background": "light"
     },
     "output_type": "display_data"
    }
   ],
   "source": [
    "scores = score_model(probabilities, 0.5)\n",
    "print_metrics(y_test, scores)  \n",
    "plot_auc(y_test, probabilities)  "
   ]
  },
  {
   "cell_type": "code",
   "execution_count": 23,
   "metadata": {},
   "outputs": [
    {
     "name": "stdout",
     "output_type": "stream",
     "text": [
      "\n",
      "For threshold = 0.55\n",
      "                 Confusion matrix\n",
      "                 Score positive    Score negative\n",
      "Actual positive      1790               392\n",
      "Actual negative       372               727\n",
      "\n",
      "Accuracy  0.77\n",
      " \n",
      "           Positive      Negative\n",
      "Num case     2182          1099\n",
      "Precision    0.83          0.65\n",
      "Recall       0.82          0.66\n",
      "F1           0.82          0.66\n",
      "\n",
      "For threshold = 0.6\n",
      "                 Confusion matrix\n",
      "                 Score positive    Score negative\n",
      "Actual positive      1870               312\n",
      "Actual negative       414               685\n",
      "\n",
      "Accuracy  0.78\n",
      " \n",
      "           Positive      Negative\n",
      "Num case     2182          1099\n",
      "Precision    0.82          0.69\n",
      "Recall       0.86          0.62\n",
      "F1           0.84          0.65\n",
      "\n",
      "For threshold = 0.65\n",
      "                 Confusion matrix\n",
      "                 Score positive    Score negative\n",
      "Actual positive      1929               253\n",
      "Actual negative       471               628\n",
      "\n",
      "Accuracy  0.78\n",
      " \n",
      "           Positive      Negative\n",
      "Num case     2182          1099\n",
      "Precision    0.80          0.71\n",
      "Recall       0.88          0.57\n",
      "F1           0.84          0.63\n",
      "\n",
      "For threshold = 0.7\n",
      "                 Confusion matrix\n",
      "                 Score positive    Score negative\n",
      "Actual positive      1968               214\n",
      "Actual negative       533               566\n",
      "\n",
      "Accuracy  0.77\n",
      " \n",
      "           Positive      Negative\n",
      "Num case     2182          1099\n",
      "Precision    0.79          0.73\n",
      "Recall       0.90          0.52\n",
      "F1           0.84          0.60\n",
      "\n",
      "For threshold = 0.75\n",
      "                 Confusion matrix\n",
      "                 Score positive    Score negative\n",
      "Actual positive      2013               169\n",
      "Actual negative       594               505\n",
      "\n",
      "Accuracy  0.77\n",
      " \n",
      "           Positive      Negative\n",
      "Num case     2182          1099\n",
      "Precision    0.77          0.75\n",
      "Recall       0.92          0.46\n",
      "F1           0.84          0.57\n"
     ]
    }
   ],
   "source": [
    "def test_threshold(probs, labels, threshold):\n",
    "    scores = score_model(probs, threshold)\n",
    "    print('')\n",
    "    print('For threshold = ' + str(threshold))\n",
    "    print_metrics(labels, scores)\n",
    "\n",
    "thresholds = [0.55, 0.60, 0.65, 0.7, 0.75]\n",
    "for t in thresholds:\n",
    "    test_threshold(probabilities, y_test, t)"
   ]
  },
  {
   "cell_type": "code",
   "execution_count": 24,
   "metadata": {},
   "outputs": [
    {
     "name": "stdout",
     "output_type": "stream",
     "text": [
      "Mean Square Error      = 0.24900944833892105\n",
      "Root Mean Square Error = 0.4990084651976568\n",
      "Mean Absolute Error    = 0.24900944833892105\n",
      "Median Absolute Error  = 0.0\n",
      "R^2                    = -0.1178302247939762\n"
     ]
    },
    {
     "data": {
      "image/png": "[encoded data removed]",
      "text/plain": [
       "<Figure size 432x288 with 1 Axes>"
      ]
     },
     "metadata": {
      "needs_background": "light"
     },
     "output_type": "display_data"
    },
    {
     "data": {
      "image/png": "[encoded data removed]",
      "text/plain": [
       "<Figure size 432x288 with 1 Axes>"
      ]
     },
     "metadata": {
      "needs_background": "light"
     },
     "output_type": "display_data"
    },
    {
     "data": {
      "image/png": "[encoded data removed]",
      "text/plain": [
       "<Figure size 432x288 with 1 Axes>"
      ]
     },
     "metadata": {
      "needs_background": "light"
     },
     "output_type": "display_data"
    }
   ],
   "source": [
    "#!!! CANNOT PLOT RESIDUALS FOR CLASSIFICATION PROBLEM\n",
    "# RESIDUAL VALUE IS NOT CONTINUOUS VALUE\n",
    "\n",
    "\n",
    "import scipy.stats as ss\n",
    "def print_metrics(y_true, y_predicted):\n",
    "    ## First compute R^2 and the adjusted R^2\n",
    "    r2 = sklm.r2_score(y_true, y_predicted)\n",
    "    \n",
    "    ## Print the usual metrics and the R^2 values\n",
    "    print('Mean Square Error      = ' + str(sklm.mean_squared_error(y_true, y_predicted)))\n",
    "    print('Root Mean Square Error = ' + str(math.sqrt(sklm.mean_squared_error(y_true, y_predicted))))\n",
    "    print('Mean Absolute Error    = ' + str(sklm.mean_absolute_error(y_true, y_predicted)))\n",
    "    print('Median Absolute Error  = ' + str(sklm.median_absolute_error(y_true, y_predicted)))\n",
    "    print('R^2                    = ' + str(r2))\n",
    "    \n",
    "def resid_plot(y_test, y_score):\n",
    "    ## first compute vector of residuals. \n",
    "    resids = np.subtract(y_test.reshape(-1,1), y_score.reshape(-1,1))\n",
    "    ## now make the residual plots\n",
    "    sns.regplot(y_score, resids, fit_reg=False)\n",
    "    plt.title('Residuals vs. predicted values')\n",
    "    plt.xlabel('Predicted values')\n",
    "    plt.ylabel('Residual')\n",
    "    plt.show()\n",
    "\n",
    "def hist_resids(y_test, y_score):\n",
    "    ## first compute vector of residuals. \n",
    "    resids = np.subtract(y_test.reshape(-1,1), y_score.reshape(-1,1))\n",
    "    ## now make the residual plots\n",
    "    sns.distplot(resids)\n",
    "    plt.title('Histogram of residuals')\n",
    "    plt.xlabel('Residual value')\n",
    "    plt.ylabel('count')\n",
    "    plt.show()\n",
    "    \n",
    "def resid_qq(y_test, y_score):\n",
    "    ## first compute vector of residuals. \n",
    "    resids = np.subtract(y_test, y_score)\n",
    "    ## now make the residual plots\n",
    "    ss.probplot(resids.flatten(), plot = plt)\n",
    "    plt.title('Residuals vs. predicted values')\n",
    "    plt.xlabel('Predicted values')\n",
    "    plt.ylabel('Residual')\n",
    "    plt.show()\n",
    "  \n",
    "\n",
    "y_score = logistic_mod.predict(X_test) \n",
    "print_metrics(y_test, y_score) \n",
    "hist_resids(y_test, y_score)  \n",
    "resid_qq(y_test, y_score) \n",
    "resid_plot(y_test, y_score) "
   ]
  },
  {
   "cell_type": "code",
   "execution_count": null,
   "metadata": {},
   "outputs": [],
   "source": []
  }
 ],
 "metadata": {
  "kernelspec": {
   "display_name": "Python 3",
   "language": "python",
   "name": "python3"
  },
  "language_info": {
   "codemirror_mode": {
    "name": "ipython",
    "version": 3
   },
   "file_extension": ".py",
   "mimetype": "text/x-python",
   "name": "python",
   "nbconvert_exporter": "python",
   "pygments_lexer": "ipython3",
   "version": "3.7.4"
  }
 },
 "nbformat": 4,
 "nbformat_minor": 1
}
